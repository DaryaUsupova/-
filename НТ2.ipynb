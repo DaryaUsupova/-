{
 "cells": [
  {
   "cell_type": "code",
   "execution_count": null,
   "id": "f8b3979f",
   "metadata": {},
   "outputs": [],
   "source": [
    "# Задача 1.\n",
    "# Исследовать качество работы классификаторы в зависимости от выбранного метода преобразования данных\n",
    "# Изучить методы преобразования данных: from sklearn.preprocessing https://scikit-learn.org/stable/modules/preprocessing.html\n",
    "# Критерий качества - accuracy\n",
    "# Сформировать таблицу для сравнения"
   ]
  },
  {
   "cell_type": "code",
   "execution_count": 4,
   "id": "17dbf326",
   "metadata": {},
   "outputs": [],
   "source": [
    "import pandas as pd\n",
    "import numpy as np\n",
    "\n",
    "from matplotlib import pyplot as plt\n",
    "from sklearn.preprocessing import StandardScaler, MinMaxScaler, MaxAbsScaler, RobustScaler, Normalizer\n",
    "from sklearn.linear_model import LogisticRegression\n",
    "from sklearn.svm import SVC\n",
    "from sklearn.neighbors import KNeighborsClassifier\n",
    "from sklearn.tree import DecisionTreeClassifier\n",
    "from sklearn.pipeline import make_pipeline\n",
    "# Загрузка данных\n",
    "from sklearn.datasets import load_iris\n",
    "\n",
    "X, y = iris.data, iris.target\n",
    "iris = load_iris()\n",
    "iris_data = iris.data[:, :2]  # Используем только два признака для простоты визуализации\n",
    "iris_target = iris.target\n"
   ]
  },
  {
   "cell_type": "code",
   "execution_count": 5,
   "id": "214e65dd",
   "metadata": {},
   "outputs": [],
   "source": [
    "from sklearn.preprocessing import StandardScaler, MinMaxScaler, MaxAbsScaler, RobustScaler, Normalizer\n",
    "from sklearn.linear_model import LogisticRegression\n",
    "from sklearn.svm import SVC\n",
    "from sklearn.neighbors import KNeighborsClassifier\n",
    "from sklearn.tree import DecisionTreeClassifier\n",
    "from sklearn.pipeline import make_pipeline\n",
    "\n",
    "scalers = {\n",
    "    'StandardScaler': StandardScaler(),\n",
    "    'MinMaxScaler': MinMaxScaler(),\n",
    "    'MaxAbsScaler': MaxAbsScaler(),\n",
    "    'RobustScaler': RobustScaler(),\n",
    "    'Normalizer': Normalizer()\n",
    "}\n",
    "classifiers = {\n",
    "    'LogisticRegression': LogisticRegression(),\n",
    "    'SVC': SVC(),\n",
    "    'KNeighborsClassifier': KNeighborsClassifier(),\n",
    "    'DecisionTreeClassifier': DecisionTreeClassifier()\n",
    "}\n",
    "results = pd.DataFrame(index=scalers.keys(), columns=classifiers.keys())\n",
    "from sklearn.model_selection import cross_val_score\n",
    "\n",
    "for scaler_name, scaler in scalers.items():\n",
    "    for classifier_name, classifier in classifiers.items():\n",
    "        model = make_pipeline(scaler, classifier)\n",
    "        scores = cross_val_score(model, X, y)\n",
    "        results.loc[scaler_name, classifier_name] = scores.mean()"
   ]
  },
  {
   "cell_type": "code",
   "execution_count": 6,
   "id": "fcc13735",
   "metadata": {},
   "outputs": [
    {
     "data": {
      "text/html": [
       "<div>\n",
       "<style scoped>\n",
       "    .dataframe tbody tr th:only-of-type {\n",
       "        vertical-align: middle;\n",
       "    }\n",
       "\n",
       "    .dataframe tbody tr th {\n",
       "        vertical-align: top;\n",
       "    }\n",
       "\n",
       "    .dataframe thead th {\n",
       "        text-align: right;\n",
       "    }\n",
       "</style>\n",
       "<table border=\"1\" class=\"dataframe\">\n",
       "  <thead>\n",
       "    <tr style=\"text-align: right;\">\n",
       "      <th></th>\n",
       "      <th>LogisticRegression</th>\n",
       "      <th>SVC</th>\n",
       "      <th>KNeighborsClassifier</th>\n",
       "      <th>DecisionTreeClassifier</th>\n",
       "    </tr>\n",
       "  </thead>\n",
       "  <tbody>\n",
       "    <tr>\n",
       "      <th>StandardScaler</th>\n",
       "      <td>0.96</td>\n",
       "      <td>0.966667</td>\n",
       "      <td>0.96</td>\n",
       "      <td>0.953333</td>\n",
       "    </tr>\n",
       "    <tr>\n",
       "      <th>MinMaxScaler</th>\n",
       "      <td>0.926667</td>\n",
       "      <td>0.953333</td>\n",
       "      <td>0.96</td>\n",
       "      <td>0.96</td>\n",
       "    </tr>\n",
       "    <tr>\n",
       "      <th>MaxAbsScaler</th>\n",
       "      <td>0.94</td>\n",
       "      <td>0.96</td>\n",
       "      <td>0.96</td>\n",
       "      <td>0.96</td>\n",
       "    </tr>\n",
       "    <tr>\n",
       "      <th>RobustScaler</th>\n",
       "      <td>0.933333</td>\n",
       "      <td>0.953333</td>\n",
       "      <td>0.933333</td>\n",
       "      <td>0.953333</td>\n",
       "    </tr>\n",
       "    <tr>\n",
       "      <th>Normalizer</th>\n",
       "      <td>0.846667</td>\n",
       "      <td>0.973333</td>\n",
       "      <td>0.98</td>\n",
       "      <td>0.966667</td>\n",
       "    </tr>\n",
       "  </tbody>\n",
       "</table>\n",
       "</div>"
      ],
      "text/plain": [
       "               LogisticRegression       SVC KNeighborsClassifier  \\\n",
       "StandardScaler               0.96  0.966667                 0.96   \n",
       "MinMaxScaler             0.926667  0.953333                 0.96   \n",
       "MaxAbsScaler                 0.94      0.96                 0.96   \n",
       "RobustScaler             0.933333  0.953333             0.933333   \n",
       "Normalizer               0.846667  0.973333                 0.98   \n",
       "\n",
       "               DecisionTreeClassifier  \n",
       "StandardScaler               0.953333  \n",
       "MinMaxScaler                     0.96  \n",
       "MaxAbsScaler                     0.96  \n",
       "RobustScaler                 0.953333  \n",
       "Normalizer                   0.966667  "
      ]
     },
     "execution_count": 6,
     "metadata": {},
     "output_type": "execute_result"
    }
   ],
   "source": [
    "results"
   ]
  },
  {
   "cell_type": "code",
   "execution_count": null,
   "id": "3385c0b4",
   "metadata": {},
   "outputs": [],
   "source": []
  }
 ],
 "metadata": {
  "kernelspec": {
   "display_name": "Python 3 (ipykernel)",
   "language": "python",
   "name": "python3"
  },
  "language_info": {
   "codemirror_mode": {
    "name": "ipython",
    "version": 3
   },
   "file_extension": ".py",
   "mimetype": "text/x-python",
   "name": "python",
   "nbconvert_exporter": "python",
   "pygments_lexer": "ipython3",
   "version": "3.11.5"
  }
 },
 "nbformat": 4,
 "nbformat_minor": 5
}
