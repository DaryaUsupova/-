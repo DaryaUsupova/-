{
 "cells": [
  {
   "cell_type": "code",
   "execution_count": null,
   "id": "f8b3979f",
   "metadata": {},
   "outputs": [],
   "source": [
    "# Задача 1.\n",
    "# Исследовать качество работы классификаторы в зависимости от выбранного метода преобразования данных\n",
    "# Изучить методы преобразования данных: from sklearn.preprocessing https://scikit-learn.org/stable/modules/preprocessing.html\n",
    "# Критерий качества - accuracy\n",
    "# Сформировать таблицу для сравнения"
   ]
  },
  {
   "cell_type": "code",
   "execution_count": 11,
   "id": "17dbf326",
   "metadata": {},
   "outputs": [],
   "source": [
    "import pandas as pd\n",
    "from sklearn.datasets import load_iris\n",
    "from sklearn.model_selection import train_test_split\n",
    "from sklearn.preprocessing import StandardScaler, MinMaxScaler, MaxAbsScaler, RobustScaler, Normalizer\n",
    "from sklearn.neighbors import KNeighborsClassifier\n",
    "from sklearn.metrics import accuracy_score"
   ]
  },
  {
   "cell_type": "code",
   "execution_count": 19,
   "id": "214e65dd",
   "metadata": {},
   "outputs": [],
   "source": [
    "# Загрузка данных\n",
    "iris = load_iris()\n",
    "iris_data = iris.data[:, :2]  # Используем только два признака для простоты визуализации\n",
    "iris_target = iris.target\n"
   ]
  },
  {
   "cell_type": "markdown",
   "id": "1dfbc90b",
   "metadata": {},
   "source": [
    "Использувем методы масштабирования такие методы, как StandardScaler, MinMaxScaler, MaxAbsScaler, RobustScaler и Normalizer."
   ]
  },
  {
   "cell_type": "code",
   "execution_count": 15,
   "id": "fe21c6da",
   "metadata": {},
   "outputs": [],
   "source": [
    "# Разделение данных на обучающую и тестовую выборки\n",
    "X_train, X_test, y_train, y_test = train_test_split(iris_data, iris_target, test_size=0.5, random_state=0)\n",
    "# Определим список методов преобразования\n",
    "scalers = {\n",
    "    'StandardScaler': StandardScaler(),\n",
    "    'MinMaxScaler': MinMaxScaler(),\n",
    "    'MaxAbsScaler': MaxAbsScaler(),\n",
    "    'RobustScaler': RobustScaler(),\n",
    "    'Normalizer': Normalizer()\n",
    "}\n",
    "# Определим классификаторы\n",
    "#LogisticRegression (логистическая регрессия),\n",
    "#DecisionTreeClassifier (дерево решений).\n",
    "classifiers = {\n",
    "    'KNeighbors': KNeighborsClassifier(n_neighbors=1),\n",
    "    'LogisticRegression': LogisticRegression(),\n",
    "    'DecisionTree': DecisionTreeClassifier(random_state=0)\n",
    "}\n",
    "\n",
    "# Список для хранения результатов\n",
    "results = []\n",
    "\n",
    "# Проходим по каждому методу масштабирования\n",
    "for scaler_name, scaler in scalers.items():\n",
    "    # Трансформируем тренировочные и тестовые данные\n",
    "    X_train_transformed = scaler.fit_transform(X_train)\n",
    "    X_test_transformed = scaler.transform(X_test)\n",
    "    \n",
    "    # Проходим по каждому классификатору\n",
    "    for clf_name, clf in classifiers.items():\n",
    "        # Обучаем модель\n",
    "        clf.fit(X_train_transformed, y_train)\n",
    "        \n",
    "        # Делаем предсказания\n",
    "        y_pred = clf.predict(X_test_transformed)\n",
    "        \n",
    "        # Оцениваем точность\n",
    "        accuracy = accuracy_score(y_test, y_pred)\n",
    "        \n",
    "        # Сохраняем результаты\n",
    "        results.append({\n",
    "            'Scaler': scaler_name,\n",
    "            'Classifier': clf_name,\n",
    "            'Accuracy': accuracy\n",
    "        })\n"
   ]
  },
  {
   "cell_type": "code",
   "execution_count": 20,
   "id": "345b3cae",
   "metadata": {},
   "outputs": [
    {
     "name": "stdout",
     "output_type": "stream",
     "text": [
      "Classifier      DecisionTree  LogisticRegression\n",
      "Scaler                                          \n",
      "MaxAbsScaler           0.680               0.587\n",
      "MinMaxScaler           0.680               0.640\n",
      "Normalizer             0.640               0.573\n",
      "RobustScaler           0.693               0.680\n",
      "StandardScaler         0.680               0.693\n"
     ]
    }
   ],
   "source": [
    "# Преобразуем результаты в таблицу DataFrame\n",
    "df_results = pd.DataFrame(results)\n",
    "\n",
    "# Выводим результаты\n",
    "print(df_results.pivot(index='Scaler', columns='Classifier', values='Accuracy').round(3))"
   ]
  }
 ],
 "metadata": {
  "kernelspec": {
   "display_name": "Python 3 (ipykernel)",
   "language": "python",
   "name": "python3"
  },
  "language_info": {
   "codemirror_mode": {
    "name": "ipython",
    "version": 3
   },
   "file_extension": ".py",
   "mimetype": "text/x-python",
   "name": "python",
   "nbconvert_exporter": "python",
   "pygments_lexer": "ipython3",
   "version": "3.11.5"
  }
 },
 "nbformat": 4,
 "nbformat_minor": 5
}
